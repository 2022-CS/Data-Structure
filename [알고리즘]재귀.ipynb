{
 "cells": [
  {
   "cell_type": "markdown",
   "id": "49a36ce4-09fa-49da-a74e-9184f082d7b4",
   "metadata": {},
   "source": [
    "## 재귀"
   ]
  },
  {
   "cell_type": "markdown",
   "id": "5fee9984-027c-40e5-aa4c-b569237d5d5f",
   "metadata": {},
   "source": [
    "### Q1. 재귀란?"
   ]
  },
  {
   "cell_type": "markdown",
   "id": "5bd2e238-2277-4bae-80d3-f9ab4ca6707b",
   "metadata": {},
   "source": [
    "하나의 함수에서 자기 자신을 다시 호출해 작업을 수행하는 알고리즘"
   ]
  },
  {
   "cell_type": "markdown",
   "id": "e985abe9-ecde-4576-9a5d-5be97e966d64",
   "metadata": {},
   "source": [
    "### Q2. 재귀로 하노이탑 구현"
   ]
  },
  {
   "cell_type": "markdown",
   "id": "2978ea59-cd04-49be-a77b-825d30b9358c",
   "metadata": {},
   "source": [
    "하노이의 탑은 3개의 기둥과 크기가 각각 다른 N개의 원판이 주어졌을 때 1번 기둥의 모든 원판을 3번 기둥으로 옮기는 일종의 퍼즐게임이다. 원판을 옮기기 위해 2번 기둥을 사용할 수 있고, 작은 원판 위에는 큰 원판이 올라올 수 없다는 제약조건이 있다. "
   ]
  },
  {
   "cell_type": "code",
   "execution_count": null,
   "id": "e5745e7d-e410-4b02-9ec1-975675a8f96f",
   "metadata": {},
   "outputs": [],
   "source": [
    "# 0. 입력 값 숫자형으로 변환\n",
    "# n : 입력받은 숫자\n",
    "n = int(input())\n",
    "\n",
    "# rod1, rod2, rod3 : 각 위치에 있는 장대의 번호\n",
    "def hanoi(n, rod1, rod3, rod2):\n",
    "\n",
    "    ## base case\n",
    "    # 원판이 하나일 떄는 그냥 rod1 -> rod3으로 옮기면 끝난다.\n",
    "    if n == 1: \n",
    "        print(rod1, rod3)\n",
    "    \n",
    "    ## recursion\n",
    "    else:\n",
    "        # 1. 원판 n-1개를 rod1에서 rod2로 옮긴다. (rod3를 보조 기둥으로)\n",
    "        hanoi(n-1, rod1, rod2, rod3)\n",
    "\n",
    "        # 2. n번째 원반 = 제일 밑에 있는 원판을 목적지(rod3)로 이동\n",
    "        print(rod1, rod3)\n",
    "\n",
    "        # 3. rod2(가운데 장대)에 있는 원반 n-1개를 목적지(rod3)로 이동 (rod1를 보조 기둥으로)\n",
    "        hanoi(n-1, rod2, rod3, rod1)\n",
    "\n",
    "# 테스트\n",
    "print(n**2 -1)\n",
    "hanoi(n, 1, 3, 2)\n",
    "\n",
    "\n",
    "#참고 https://creamilk88.tistory.com/196"
   ]
  },
  {
   "cell_type": "markdown",
   "id": "9f79e1ed-903e-46a2-a5dc-61cf8af4cf16",
   "metadata": {},
   "source": [
    "##"
   ]
  },
  {
   "cell_type": "markdown",
   "id": "ef2e9001-a00f-4c2f-a2e7-5b1d19b599ae",
   "metadata": {},
   "source": [
    "### Q3. 재귀로 피보나치 수혈 구현"
   ]
  },
  {
   "cell_type": "markdown",
   "id": "6933abf5-bff2-4f15-a293-989261fdb855",
   "metadata": {},
   "source": [
    "첫 번째 항의 값이 0이고 두 번째 항의 값이 1일 때, 이후에 이어지는 항은 이전의 두 항을 더한 값으로 이루어지는 수열을 피보나치 수열. 즉, 제일 초깃값 1에 1을 더한 값이 2, 1과 2를 더한 값 3, 2와 3을 더한값 5, ... 이런식으로 계속 끊임없이 늘어나는 수열\n",
    "\n",
    "_참고: https://velog.io/@cha-suyeon/python-%ED%94%BC%EB%B3%B4%EB%82%98%EC%B9%98-%EC%88%98%EC%97%B4-%EB%A7%8C%EB%93%A4%EA%B8%B0-%EC%A0%90%ED%94%84%ED%88%AC%ED%8C%8C%EC%9D%B4%EC%8D%AC-%EC%A2%85%ED%95%A9%EB%AC%B8%EC%A0%9C-5%EB%B2%88"
   ]
  },
  {
   "cell_type": "markdown",
   "id": "60b7472a-3599-4a05-ae24-f1c89afc8ba7",
   "metadata": {},
   "source": [
    "- 방법1. 재귀함수를 사용한 방식"
   ]
  },
  {
   "cell_type": "code",
   "execution_count": null,
   "id": "71a0d09b-e43e-4022-a381-a3c0d80a6762",
   "metadata": {},
   "outputs": [],
   "source": [
    "def fibo(n):\n",
    "    if n == 1 or n == 2:\n",
    "        return 1\n",
    "    else:\n",
    "        return fibo(n-1) + fibo(n-2)\n",
    "\n",
    "print(fibo(5)) # 5가 나옴\n",
    "\n",
    "for i in range(10):\n",
    "    print(fibo(i)) # 0, 1, 1, 2, 3, 5, 8, 13, ..."
   ]
  },
  {
   "cell_type": "markdown",
   "id": "71cf458b-1048-413f-95e5-7157cf305850",
   "metadata": {},
   "source": [
    "- 방법2. 초깃값 세팅 후 반복하면서 (이전값)+(전전값)을 더하는 방식"
   ]
  },
  {
   "cell_type": "code",
   "execution_count": null,
   "id": "6c84275d-7413-4fc4-b714-8ac3d2b9a755",
   "metadata": {},
   "outputs": [],
   "source": [
    "def fibo(n):\n",
    "    a = 1\n",
    "    b = 1\n",
    "    if n == 1 or n == 2:\n",
    "        return 1\n",
    "    for i in range(1, n):\n",
    "        a, b = b, b + a\n",
    "    \n",
    "    return a\n",
    "    \n",
    "print(fibo(5))"
   ]
  },
  {
   "cell_type": "markdown",
   "id": "5f2f9ad7-4fa5-4722-88bf-62f082c8a15e",
   "metadata": {},
   "source": [
    "- 방법3. 제너레이터 구현 방식"
   ]
  },
  {
   "cell_type": "code",
   "execution_count": null,
   "id": "bcdd47b7-c2f5-4f1e-8af2-e6f2bd2514f3",
   "metadata": {},
   "outputs": [],
   "source": [
    "def fibo():\n",
    "    a, b = 0, 1\n",
    "    while True:\n",
    "        a, b = b, a + b\n",
    "        yield a\n",
    "        \n",
    "f = fibo()\n",
    "next(f)"
   ]
  },
  {
   "cell_type": "markdown",
   "id": "142d5404-65c4-4160-a81a-43e794aeb136",
   "metadata": {},
   "source": [
    "- 정리"
   ]
  },
  {
   "cell_type": "code",
   "execution_count": null,
   "id": "2301cbc4-ec5d-42e4-a6e0-fd5160c295f0",
   "metadata": {},
   "outputs": [],
   "source": [
    "#for문 사용\n",
    "def fibo(n):\n",
    "    list = []\n",
    "    for i in range(0,n):\n",
    "        if i<2:\n",
    "            list.append(1)\n",
    "        else:\n",
    "            list.append(list[i-1]+list[i-2])\n",
    "    return list[n-1]\n",
    "print(fibo(4)) #3\n",
    "#재귀 사용\n",
    "def fibo(n):\n",
    "    if n < 3:\n",
    "        return 1\n",
    "    else:\n",
    "        return fibo(n-1) + fibo(n-2)\n",
    "print(fibo(4)) #3"
   ]
  },
  {
   "cell_type": "markdown",
   "id": "2d18f70b-06f5-42c6-9a1d-b0995b28795f",
   "metadata": {},
   "source": [
    "##"
   ]
  },
  {
   "cell_type": "markdown",
   "id": "34ede6dc-b0ba-46ba-90f3-8593f59f9fdd",
   "metadata": {},
   "source": [
    "### Q4. 재귀로 최소공배수 구현"
   ]
  },
  {
   "cell_type": "markdown",
   "id": "a04e52d6-02fc-44ab-99ad-d7d8e0945886",
   "metadata": {},
   "source": [
    "최대 공약수: 두 수를 공통으로 나눌 수 있는 정수 중 가장 큰 것. (예: 12와 16의 최대공약수는 4)"
   ]
  },
  {
   "cell_type": "code",
   "execution_count": null,
   "id": "52c2dda4-c8f6-440c-acf3-591b90ccc65c",
   "metadata": {},
   "outputs": [],
   "source": [
    "def gcd(m, n):\n",
    "    if m < n:\n",
    "        m, n = n, m #큰 순으로 정렬\n",
    "    if m % n == 0: #큰 수에서 작은 수가 나눠지면\n",
    "        return n #작은 수가 최대공약수\n",
    "    else:\n",
    "        return gcd(n, m%n) #재귀로 반복\n",
    "\n",
    "print(gcd(48, 60)) # 12\n",
    "\n",
    "#참고: https://airsbigdata.tistory.com/166"
   ]
  },
  {
   "cell_type": "code",
   "execution_count": null,
   "id": "7feb4a5f-f88d-4f73-a4cf-72051ed36252",
   "metadata": {},
   "outputs": [],
   "source": []
  }
 ],
 "metadata": {
  "kernelspec": {
   "display_name": "Python 3",
   "language": "python",
   "name": "python3"
  },
  "language_info": {
   "codemirror_mode": {
    "name": "ipython",
    "version": 3
   },
   "file_extension": ".py",
   "mimetype": "text/x-python",
   "name": "python",
   "nbconvert_exporter": "python",
   "pygments_lexer": "ipython3",
   "version": "3.7.10"
  }
 },
 "nbformat": 4,
 "nbformat_minor": 5
}
